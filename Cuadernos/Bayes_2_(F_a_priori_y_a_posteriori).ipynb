{
  "nbformat": 4,
  "nbformat_minor": 0,
  "metadata": {
    "colab": {
      "provenance": [],
      "authorship_tag": "ABX9TyMTeaOXW5RBvQ+wxPdayrIJ",
      "include_colab_link": true
    },
    "kernelspec": {
      "name": "ir",
      "display_name": "R"
    },
    "language_info": {
      "name": "R"
    }
  },
  "cells": [
    {
      "cell_type": "markdown",
      "metadata": {
        "id": "view-in-github",
        "colab_type": "text"
      },
      "source": [
        "<a href=\"https://colab.research.google.com/github/jazaineam1/bayesiana/blob/main/Cuadernos/Bayes_2_(F_a_priori_y_a_posteriori).ipynb\" target=\"_parent\"><img src=\"https://colab.research.google.com/assets/colab-badge.svg\" alt=\"Open In Colab\"/></a>"
      ]
    },
    {
      "cell_type": "code",
      "execution_count": null,
      "metadata": {
        "id": "f-Zib0BIiEIU"
      },
      "outputs": [],
      "source": []
    },
    {
      "cell_type": "markdown",
      "source": [
        "## Distribución \"A Priori\": Una Introducción\n",
        "\n",
        "En estadística bayesiana, una distribución \"a priori\" representa las creencias o conocimientos previos acerca de un parámetro antes de observar los datos. Esta distribución forma la base del análisis bayesiano y se combina con los datos observados para formar una distribución \"a posteriori\", que refleja las creencias actualizadas sobre el parámetro tras considerar la nueva evidencia.\n",
        "\n",
        "El análisis estadístico se fundamenta en el concepto de probabilidad. Su definición matemática es específica: se refiere a una función aditiva no negativa que alcanza como valor máximo la unidad. Sin embargo, la principal complicación surge al determinar cómo se establece esta función. Ashby discute que las distribuciones \"a priori\" pueden interpretarse de tres maneras diferentes: pueden basarse en frecuencias obtenidas de datos anteriores, representar de manera objetiva lo que se considera racional asumir sobre un parámetro, o bien, reflejar la medida subjetiva de creencia de un individuo en particular.\n",
        "\n",
        "#### Clasificación de las Distribuciones \"A Priori\"\n",
        "\n",
        "Las distribuciones \"a priori\" se dividen en distintos tipos:\n",
        "\n",
        "1. **Propias vs. Impropias**:\n",
        "   - **Propias**: Son aquellas que asignan pesos no negativos a todos los posibles valores del parámetro y cuya suma o integración es igual a uno. Cumplen con los requisitos de una función de densidad de probabilidad.\n",
        "   - **Impropias**: Son aquellas cuya suma o integración resulta en un valor distinto de uno, denominado K. Si K es finito, se puede obtener una distribución propia a través de la normalización de la función. Si K es infinito, la distribución se usa como una herramienta de ponderación o técnica para derivar una distribución posterior.\n",
        "\n",
        "2. **Informativas vs. No Informativas**:\n",
        "   - **No Informativas**: Son aquellas que expresan una total ignorancia o un conocimiento muy limitado acerca del parámetro de interés. Su objetivo es reflejar una posición neutral ante la información previa.\n",
        "   \n",
        "3. **Conjugadas vs. No Conjugadas**:\n",
        "   - **Conjugadas**: Se dice que una distribución \"a priori\" es conjugada cuando, después de actualizarla con datos muestrales, la distribución \"a posteriori\" mantiene la misma forma que la \"a priori\", cambiando solo en los hiperparámetros, es decir, en parámetros diferentes a los del modelo muestral.\n",
        "\n",
        "Estas clasificaciones permiten a los estadísticos y a los investigadores escoger la distribución \"a priori\" más adecuada según el conocimiento previo y la información disponible, lo que a su vez influye en la interpretación y los resultados del análisis bayesiano."
      ],
      "metadata": {
        "id": "NOWzrRLYxatH"
      }
    },
    {
      "cell_type": "code",
      "source": [],
      "metadata": {
        "id": "2sKGfI8txbUy"
      },
      "execution_count": null,
      "outputs": []
    },
    {
      "cell_type": "markdown",
      "source": [
        "## Análisis Preposterior en Estadística Bayesiana\n",
        "\n",
        "En el contexto de la estadística bayesiana, el análisis preposterior es una etapa crítica donde evaluamos la robustez y la idoneidad de nuestras creencias previas (a priori) antes de observar los datos. Este análisis ayuda a asegurar un razonamiento bayesiano sólido y fundamentado. Martz y Waller destacan varios pasos cruciales para realizar un análisis bayesiano eficaz:\n",
        "\n",
        "1. **Justificación y Análisis de la Distribución \"A Priori\"**: Es esencial justificar la elección de la distribución a priori seleccionada, comprendiendo plenamente sus implicaciones matemáticas. Por ejemplo, optar por una distribución normal para representar conocimiento previo nos limita a distribuciones que son unimodales.\n",
        "\n",
        "2. **Documentación de Fuentes de Datos**: Las fuentes utilizadas para determinar la distribución a priori deben documentarse exhaustivamente. Esto añade transparencia y credibilidad al análisis.\n",
        "\n",
        "3. **Realización de Análisis Preposterior**: Este paso implica evaluar la distribución a priori con escenarios de prueba hipotéticos para comprobar su calidad. Esto puede incluir generar muestras bajo diferentes condiciones y verificar si los resultados son coherentes con las expectativas.\n",
        "\n",
        "4. **Definición de la Distribución \"A Posteriori\"**: Se debe establecer claramente cómo se actualizarán las creencias a priori en función de los nuevos datos para formar la distribución a posteriori.\n",
        "\n",
        "5. **Análisis de Sensibilidad**: Se deben analizar las inferencias bayesianas para variaciones en la distribución a priori elegida, lo que ayuda a entender el impacto de las suposiciones previas en los resultados finales.\n",
        "\n",
        "Durante la elicitación de la distribución a priori, se alienta a los expertos a proporcionar información, pero también deben recibir retroalimentación inmediata para ajustar cualquier desviación notable. Este diálogo garantiza que las distribuciones a priori reflejen con precisión el conocimiento o las creencias previas.\n",
        "\n",
        "Es crucial documentar detalladamente todo el proceso de elicitación, incluyendo justificaciones para la relevancia de datos o estudios anteriores al problema actual. Por ejemplo, un estudio sobre el consumo de drogas en una ciudad puede no ser aplicable directamente a otra ciudad, aunque puede haber excepciones en casos de fenómenos biológicos más generales.\n",
        "\n",
        "La elección de la distribución a priori puede variar en método y complejidad. Es recomendable emplear múltiples métodos de elicitación para garantizar la consistencia entre las distribuciones a priori deducidas de diferentes maneras.\n",
        "\n",
        "Finalmente, el análisis preposterior verifica la fiabilidad de las creencias a priori. Este paso es análogo a un análisis exploratorio de datos, donde se investigan las características y posibles problemas de la distribución a priori propuesta. Este análisis ayuda a determinar si la distribución es creíble, computacionalmente viable, y bien definida sobre el espacio de parámetros, y si es robusta ante la adquisición de nuevos datos.\n",
        "\n",
        "En situaciones donde existen diferencias significativas entre múltiples distribuciones a priori, ya sea por distintos expertos o métodos de elicitación, puede ser prudente considerar y trabajar con varias distribuciones a priori en el análisis, aprovechando la disponibilidad de recursos computacionales modernos para manejar múltiples escenarios."
      ],
      "metadata": {
        "id": "WjykGTwry3_j"
      }
    },
    {
      "cell_type": "markdown",
      "source": [
        "## Distribución Predictiva A Priori\n",
        "\n",
        "La construcción de la distribución predictiva a priori es fundamental en la estadística bayesiana para evaluar la calidad de una distribución a priori elicitada. Esta distribución combina el conocimiento previo sobre el parámetro de interés, $θ$, expresado a través de la distribución a priori $ξ(θ)$, con el modelo de los datos, $f(y|θ)$, para predecir posibles resultados futuros.\n",
        "\n",
        "La fórmula\n",
        "$$ p(y) = ∫ f(y|θ) ξ(θ) dθ $$ define cómo se calcula la distribución predictiva a priori, integrando sobre todos los posibles valores de $θ$. Si los resultados predichos por esta distribución están en línea con las expectativas del analista, esto sugiere que la distribución a priori es apropiada y se puede avanzar en el análisis.\n",
        "\n",
        "Este enfoque también permite probar la robustez de las conclusiones cambiando la distribución a priori. Sin embargo, es importante notar que este método no es aplicable a distribuciones a priori no informativas debido a la falta de conocimiento previo específico.\n",
        "\n",
        "Como ejemplo práctico, consideremos el análisis de los goles marcados en partidos de fútbol profesional en Colombia. Si un experto sugiere que el número promedio de goles, $θ$, sigue una distribución normal $N(2.5, (0.20)^2)$, y asumimos que el número de goles por partido sigue una distribución de $Poisson(θ)$, entonces se puede calcular la distribución predictiva a priori correspondiente para validar nuestras creencias previas y proceder con el análisis posterior basado en estas asunciones.\n",
        "\n",
        "\n",
        "$$p(y) = \\int_{0}^{\\infty} \\frac{\\theta^{y} \\exp(-\\theta)}{y!} \\frac{1}{\\sqrt{2\\pi} 0.20} \\exp\\left(-\\frac{1}{2 \\times 0.2^2}(\\theta - 2.5)^2\\right) d\\theta$$\n"
      ],
      "metadata": {
        "id": "vjlXcLUWzs3_"
      }
    },
    {
      "cell_type": "code",
      "source": [
        "# Simulación de la Distribución Predictiva a priori\n",
        "# Nro. promedio de goles del campeonato colombiano\n",
        "# A priori: Normal(2.5, 0.20^2)\n",
        "# Dist. muestral: Poisson(theta)\n",
        "# función que muestrea de la predictiva\n",
        "dist.predictiva<-function(Nsim=10000,media=2.5,dt=0.20){\n",
        "    # genera valores de la Poisson con parámetros de la normal\n",
        "    res<-rpois(Nsim,rnorm(Nsim,mean=media,sd=dt))\n",
        "    # tabla de frecuencias para los valores generados\n",
        "    tabla<-table(res)\n",
        "    print(tabla/sum(tabla))\n",
        "    barplot(tabla) # diagrama de barras para valores generados\n",
        "    print(summary(res)) # resumen estadístico\n",
        "    print(var(res))\n",
        "} # fin de la función\n",
        "dist.predictiva()\n",
        "title(main=\"Distribución predictiva\\n campeonato colombiano\",xlab=\"Número de Goles\", ylab=\"Frecuencia\")\n",
        "legend(7,2000,c(\"Media a priori=2.5\",\"Desv. Est. a priori=0.20\"),bty=\"n\")\n"
      ],
      "metadata": {
        "colab": {
          "base_uri": "https://localhost:8080/",
          "height": 576
        },
        "id": "z0O0VOSK0whs",
        "outputId": "b2bda440-0c85-4025-e602-fd0c6caf592c"
      },
      "execution_count": 2,
      "outputs": [
        {
          "output_type": "stream",
          "name": "stdout",
          "text": [
            "res\n",
            "     0      1      2      3      4      5      6      7      8      9     10 \n",
            "0.0844 0.2069 0.2537 0.2122 0.1315 0.0652 0.0315 0.0095 0.0037 0.0008 0.0005 \n",
            "    11 \n",
            "0.0001 \n",
            "   Min. 1st Qu.  Median    Mean 3rd Qu.    Max. \n",
            "  0.000   1.000   2.000   2.501   3.000  11.000 \n",
            "[1] 2.572456\n"
          ]
        },
        {
          "output_type": "display_data",
          "data": {
            "text/plain": [
              "Plot with title “Distribución predictiva\n",
              " campeonato colombiano”"
            ],
            "image/png": "[encoded data removed]"
          },
          "metadata": {
            "image/png": {
              "width": 420,
              "height": 420
            }
          }
        }
      ]
    },
    {
      "cell_type": "markdown",
      "source": [
        "A priori, notamos que la mediana del número de goles para un nuevo partido del\n",
        "rentado colombiano sería de 2 goles.\n"
      ],
      "metadata": {
        "id": "QBtutfnS1WvQ"
      }
    },
    {
      "cell_type": "markdown",
      "source": [
        "El Teorema de Bayes se ha convertido en un pilar fundamental en el campo de la estadística, generando debates no solo acerca de sus orígenes sino también de sus implicaciones filosóficas. Este teorema fue publicado post mortem del reverendo Thomas Bayes por un amigo cercano.\n",
        "\n",
        "## Teorema de Bayes\n",
        "\n",
        "Considerando $B_1, B_2, \\ldots, B_k$ como eventos mutuamente excluyentes y colectivamente exhaustivos, y un evento adicional $A$, el Teorema de Bayes establece que:\n",
        "\n",
        "$$\n",
        "P(B_i | A) = \\frac{P(B_i \\cap A)}{P(A)} = \\frac{P(A | B_i) P(B_i)}{\\sum_{i=1}^{k} P(A | B_i) P(B_i)}\n",
        "$$\n",
        "\n",
        "siempre y cuando $P(A) \\neq 0$ y $P(B_i) \\neq 0$ para $i = 1, 2, \\ldots, k$.\n",
        "\n",
        "## Teorema de Bayes para Variables Aleatorias\n",
        "\n",
        "En el contexto de variables aleatorias $X$ y $\\theta$ con funciones de densidad de probabilidad $f(x|\\theta)$ y $\\xi(\\theta)$ respectivamente, el Teorema de Bayes se expresa como:\n",
        "\n",
        "$$\n",
        "\\xi(\\theta | x) = \\frac{f(x | \\theta) \\xi(\\theta)}{\\int_{\\Theta} f(x | \\theta) \\xi(\\theta) d\\theta}\n",
        "$$\n",
        "\n",
        "Bajo el paradigma bayesiano, donde $X$ representa los datos (pueden ser escalares, vectores o matrices) y $\\theta$ el parámetro desconocido, la inferencia bayesiana surge de la distribución posterior $\\xi(\\theta | x_1, \\ldots, x_n)$, que se define como:\n",
        "\n",
        "$$\n",
        "\\xi(\\theta | x_1, \\ldots, x_n) = \\frac{f(x_1, \\ldots, x_n | \\theta) \\xi(\\theta)}{\\int_{\\Theta} f(x_1, \\ldots, x_n | \\theta) \\xi(\\theta) d\\theta}\n",
        "$$\n",
        "\n",
        "En la práctica, el denominador de la expresión anterior generalmente no necesita calcularse de manera explícita, y la regla de Bayes puede simplificarse a:\n",
        "\n",
        "$$\n",
        "\\xi(\\theta | x_1, \\ldots, x_n) \\propto f(x_1, \\ldots, x_n | \\theta) \\xi(\\theta)\n",
        "$$\n",
        "\n",
        "Esto significa que la distribución posterior de $\\theta$ se puede determinar hasta una constante de normalización, permitiendo una actualización de $\\xi(\\theta)$ a $\\xi(\\theta | x_1, \\ldots, x_n)$ con la adquisición de nuevos datos.\n",
        "\n",
        "## Aprendizaje Bayesiano\n",
        "\n",
        "El teorema de Bayes facilita un mecanismo para actualizar continuamente nuestro conocimiento sobre $\\theta$ conforme se recopilan nuevos datos, mostrando cómo el aprendizaje bayesiano incorpora de forma secuencial la evidencia para modificar nuestra comprensión sobre el estado de la naturaleza."
      ],
      "metadata": {
        "id": "xT9eidEg6yc1"
      }
    },
    {
      "cell_type": "markdown",
      "source": [
        "## Ejemplo de Distribución A Priori Uniforme Truncada\n",
        "\n",
        "Al enfrentarnos a un problema binomial, a menudo podemos especificar con claridad las regiones donde es imposible encontrar el parámetro, aunque no podamos precisar más allá nuestro conocimiento sobre este. Una solución es emplear una distribución a priori que refleje esta incertidumbre mediante una distribución uniforme truncada, la cual se define como $\\pi \\sim U(\\pi_0, \\pi_1)$. Esto implica que:\n",
        "\n",
        "$$\n",
        "\\xi (\\pi|\\pi_0, \\pi_1) = \\frac{1}{\\pi_1 - \\pi_0}, \\quad 0 \\leq \\pi_0 < \\pi < \\pi_1 \\leq 1\n",
        "$$\n",
        "\n",
        "La distribución posterior de $\\pi$, dado $x = (x_1, x_2, \\ldots, x_n)$, es calculada por:\n",
        "\n",
        "$$\n",
        "\\xi (\\pi|x, \\pi_0, \\pi_1) = \\frac{\\Gamma(n+2)}{\\Gamma(y+1)\\Gamma(n-y+1)}\\pi^{(y+1)-1}(1 - \\pi)^{(n-y+1)-1} \\left/ \\int_{\\pi_0}^{\\pi_1} \\frac{\\Gamma(n+2)}{\\Gamma(y+1)\\Gamma(n-y+1)}\\pi^{(y+1)-1}(1 - \\pi)^{(n-y+1)-1}d\\pi \\right.\n",
        "$$\n",
        "\n",
        "donde $y = \\sum_{i=1}^{n} x_i$.\n",
        "\n",
        "El denominador de esta función corresponde a $P(\\pi_0 < W < \\pi_1|y + 1, n - y + 1)$, donde $W \\sim Beta(y + 1, n - y + 1)$. Este valor puede calcularse fácilmente en programas como R. La media y la varianza a posteriori se encuentran de manera directa, siendo:\n",
        "\n",
        "$\n",
        "E (\\pi|x, \\pi_0, \\pi_1) = \\frac{y + 1}{n + 2} \\frac{P (\\pi_0 < W < \\pi_1|y + 2, n - y + 1)}{P (\\pi_0 < W < \\pi_1|y + 1, n - y + 1)}\n",
        "$\n",
        "\n",
        "$\n",
        "V ar (\\pi|x, \\pi_0, \\pi_1) = \\frac{(y + 2)(y + 1)}{(n + 3)(n + 2)} \\frac{P (\\pi_0 < W < \\pi_1|y + 3, n - y + 1)}{P (\\pi_0 < W < \\pi_1|y + 1, n - y + 1)} - \\left(\\frac{(y + 1)}{(n + 2)} \\frac{P (\\pi_0 < W < \\pi_1|y + 2, n - y + 1)}{P (\\pi_0 < W < \\pi_1|y + 1, n - y + 1)}\\right)^2\n",
        "$\n",
        "\n",
        "### Ejemplo 4.2: Aplicación Numérica con Distribución A Priori Uniforme Truncada\n",
        "\n",
        "Imaginemos que estimamos que el porcentaje de mujeres estudiando actualmente en una universidad específica se encuentra entre el 35% y el 70%. Para representar esta incertidumbre inicial, optamos por una distribución a priori uniforme truncada, definida como:\n",
        "$$\n",
        "\\xi(\\pi) = \\frac{1}{0.70 - 0.35} \\quad \\text{para} \\quad \\pi \\in (0.35, 0.70), \\quad \\text{y} \\quad 0 \\quad \\text{en cualquier otro caso}.\n",
        "$$\n",
        "\n",
        "Posteriormente, al seleccionar una muestra aleatoria de 10 estudiantes, descubrimos que 4 son mujeres y 6 son hombres, es decir, $y = 4$ y $n = 10$. A pesar del reducido tamaño de la muestra, aplicamos el intervalo de confianza clásico basado en el teorema central del límite, considerando la casi simetría de la distribución poblacional, lo cual nos lleva a:\n",
        "$$\n",
        "\\hat{\\pi} \\pm 1.96\\sqrt{\\frac{\\hat{\\pi}(1 - \\hat{\\pi})}{n}},\n",
        "$$\n",
        "resultando en un intervalo de confianza del 95% de (0.0963, 0.704).\n",
        "\n",
        "Adoptando una aproximación bayesiana, obtenemos la siguiente distribución posterior:\n",
        "$$\n",
        "\\xi (\\pi|n = 10, y = 4, \\pi_0 = 0.35, \\pi_1 = 0.70) = \\frac{\\Gamma(12)}{\\Gamma(5)\\Gamma(5)}\\pi^{4}(1 - \\pi)^{6} \\left/ \\left( K(0.70 ; 5 , 7) - K(0.35 ; 5 , 7) \\right) \\right.,\n",
        "$$\n",
        "donde $K(z; \\alpha, \\beta)$ se calcula como:\n",
        "$$\n",
        "K(z; \\alpha, \\beta) = \\int_{0}^{z} \\frac{\\Gamma(\\alpha + \\beta)}{\\Gamma(\\alpha)\\Gamma(\\beta)} x^{\\alpha-1}(1 - x)^{\\beta-1}dx.\n",
        "$$\n",
        "\n",
        "De este modo, la media a posteriori, $E (\\pi|n = 10, y = 4, \\pi_0 = 0.35, \\pi_1 = 0.70)$, es 0.4823673, y el intervalo de credibilidad del 95% se sitúa entre (0.3561442, 0.6680237). Este intervalo se determina resolviendo la integral:\n",
        "$$\n",
        "\\int_{\\pi_*}^{\\pi^*} \\frac{\\Gamma(12)}{\\Gamma(5)\\Gamma(5)}\\pi^{4}(1 - \\pi)^{6} d\\pi = 0.95,\n",
        "$$\n",
        "y estableciendo el intervalo $(\\pi_*, \\pi^*)$. Este resultado actualiza nuestra creencia inicial, proporcionando un intervalo más preciso en comparación con el estimado inicialmente."
      ],
      "metadata": {
        "id": "LTfLFQza9bXP"
      }
    },
    {
      "cell_type": "markdown",
      "source": [
        "## Distribuciones conjugadas\n",
        "\n",
        "Ante la complejidad de elegir una distribución a priori que refleje con claridad nuestro conocimiento bayesiano, surge de forma natural la idea de enfocar la búsqueda en familias de distribuciones a priori con características particulares:\n",
        "\n",
        "1. **Tratabilidad Analítica**:\n",
        "   a) Que permita determinar fácilmente tanto la distribución posterior basada en la muestra como la distribución a priori.\n",
        "   b) Que facilite la obtención de medidas de interés, como los valores esperados.\n",
        "   c) Que asegure que tanto la distribución a priori como la posterior pertenezcan a la misma familia de distribuciones, formando un conjunto cerrado.\n",
        "\n",
        "2. **Flexibilidad y Riqueza**: Capaz de modelar una amplia gama de conocimientos previos y creencias.\n",
        "\n",
        "3. **Interpretación Intuitiva**: Los parámetros deben ser fácilmente comprensibles para el analista, permitiendo una conexión directa con sus creencias e información previa.\n",
        "\n",
        "Dickey resaltó este proceso de selección de a prioris adecuadas como la búsqueda de distribuciones a priori operacionales o subrogadas. También se discute el concepto de distribuciones a posteriori operacionales.\n",
        "\n",
        "Raiffa y Schlaifer, en 1961, dieron forma al concepto de familias conjugadas. La creación de una familia conjugada depende de identificar estadísticos suficientes de dimensión finita para una determinada función de verosimilitud. La presencia de estos estadísticos permite reducir la dimensionalidad del análisis. Así, cuando estos estadísticos existen, también existe una familia conjugada correspondiente.\n",
        "\n",
        "Una **distribución a priori conjugada natural** se caracteriza por compartir la misma forma funcional que la función de verosimilitud, lo que implica que la información a priori puede interpretarse de la misma forma que los datos en la función de verosimilitud. Es decir, la a priori puede considerarse como si procediera de un conjunto de datos ficticios generados por el mismo proceso que produjo los datos reales.\n",
        "\n",
        "Las distribuciones conjugadas desempeñan un rol crucial en los métodos bayesianos, simplificando el proceso de integración necesario para la marginalización. Esta simplificación resulta de que tanto la a priori como la posterior pertenezcan a la misma familia, facilitando la actualización de parámetros, una gran ventaja para los sistemas inteligentes.\n",
        "\n",
        "No obstante, la conjugación restringe la selección a un conjunto limitado de a prioris, y la información previa se utiliza principalmente para definir hiperparámetros. Aunque esto puede parecer restrictivo, la amplia variedad de clases disponibles suele ser suficiente para muchos casos de uso. Robert señala que esta automatización en la selección de la a priori es tanto una ventaja como una desventaja, ya que, si bien simplifica el proceso de actualización (especialmente en contextos dinámicos), a menudo limita la capacidad de representar adecuadamente la distribución a priori. Un experimento de Diaconis y Ylvisaker ilustra este punto, mostrando cómo la experiencia de lanzar una moneda en posición vertical y que cae sobre una superficie plana sugiere una distribución bimodal, con modas en 1/3 y 2/3, un fenómeno que podría no capturarse adecuadamente mediante el uso exclusivo de distribuciones conjugadas."
      ],
      "metadata": {
        "id": "b-8YSf73BIiL"
      }
    },
    {
      "cell_type": "markdown",
      "source": [
        "Si consideramos $x_1, ..., x_n$ como variables aleatorias independientes e idénticamente distribuidas (i.i.d.) de un proceso definido por la función $f(x|\\theta)$, donde $\\theta$ representa un conjunto de parámetros desconocidos de interés que pueden ser tanto escalares como vectores, y suponemos la existencia de una familia conjugada para este proceso, denotada por $\\xi(\\theta|\\phi)$, cuyos elementos se indexan mediante el hiperparámetro $\\phi$. La presencia de esta familia conjugada nos permite descomponer la función de verosimilitud $L(\\theta|x_1, ..., x_n)$ de la forma:\n",
        "\n",
        "$$L(\\theta|x_1, ..., x_n) = u(x_1, ..., x_n) v(T(x_1, ..., x_n), \\theta),$$\n",
        "\n",
        "donde $u(\\cdot)$ es una función que no depende de $\\theta$ y $v(T(x_1, ..., x_n), \\theta)$ es una función que involucra tanto al estadístico suficiente como al conjunto de parámetros $\\theta$.\n",
        "\n",
        "Ahora, si nos interesamos en aplicar una transformación biyectiva a los datos, tal que $y_i = h(x_i)$ para $i=1, ..., n$, donde $h(x)$ es biyectiva y, por tanto, tiene una función inversa $h^{-1}(x)$, en el contexto de un proceso continuo, la función de verosimilitud transformada se expresa como:\n",
        "\n",
        "$$L(\\theta|y) = f(h^{-1}(y)|\\theta) \\frac{d}{dy} h^{-1}(y),$$\n",
        "\n",
        "y para el conjunto completo de datos transformados, la función de verosimilitud es:\n",
        "\n",
        "$$L(\\theta|y_1, ..., y_n) = f(h^{-1}(y_1), ..., h^{-1}(y_n)|\\theta) |J|,$$\n",
        "\n",
        "donde $J$ es el jacobiano de la transformación, y se define como:\n",
        "\n",
        "$$J = \\prod_{i=1}^{n} \\frac{d}{dy_i} h^{-1}(y_i).$$\n",
        "\n",
        "Este enfoque nos permite manejar la verosimilitud de los datos transformados de manera que se conserve la estructura de la función de verosimilitud original, aprovechando las propiedades de las familias conjugadas para simplificar el análisis y la interpretación de los parámetros $\\theta$ a través de transformaciones biyectivas de los datos."
      ],
      "metadata": {
        "id": "NRfxjXxfBoKW"
      }
    },
    {
      "cell_type": "markdown",
      "source": [
        "La función de verosimilitud para datos transformados se define como:\n",
        "\n",
        "$$L(\\theta|y_1, \\ldots, y_n) = u(h^{-1}(y_1), \\ldots, h^{-1}(y_n)) \\times v(T(h^{-1}(y_1), \\ldots, h^{-1}(y_n)), \\theta) \\times |J|$$\n",
        "\n",
        "Aquí, $|J|$ representa el jacobiano de la transformación, el cual es una función de las $x_i$, y nos da:\n",
        "\n",
        "$$\\mu(x_1, \\ldots, x_n) = u(x_1, \\ldots, x_n) \\times |J|$$\n",
        "\n",
        "Por consiguiente, la función de verosimilitud transformada se puede expresar como:\n",
        "\n",
        "$$L(\\theta|y_1, \\ldots, y_n) = \\mu(x_1, \\ldots, x_n) \\times v(T(x_1, \\ldots, x_n), \\theta)$$\n",
        "\n",
        "Esta representación de la verosimilitud transformada combina una función que solo depende de los datos, que no interactúa directamente con el parámetro, y el núcleo de la verosimilitud original sin transformar. Esto implica que la distribución a priori conjugada para el proceso no transformado permanece igual en el proceso transformado.\n",
        "\n",
        "En las siguientes secciones, examinaremos las distribuciones conjugadas para distintos modelos de probabilidad, ilustrando su aplicación con ejemplos basados en datos reales."
      ],
      "metadata": {
        "id": "w4_KhQn7CIZr"
      }
    },
    {
      "cell_type": "markdown",
      "source": [
        "### Distribución Binomial\n",
        "\n",
        "**Teorema 5.1:** Considere $X_1, ..., X_n$ como una muestra aleatoria de una distribución Bernoulli con parámetro $\\pi$, cuyo valor es desconocido. Supongamos además que la distribución a priori de $\\pi$ es una Beta con parámetros $\\alpha (> 0)$ y $\\beta (> 0)$. Entonces, la distribución posterior de $\\pi$ dado que $X_i = x_i$ para $i = 1, ..., n$, se modela como una distribución Beta con parámetros $\\alpha + \\sum_{i=1}^{n} x_i$ y $\\beta + n - \\sum_{i=1}^{n} x_i$.\n",
        "\n",
        "Las variables $X_1, ..., X_n$ son independientes y siguen una distribución Bernoulli($\\pi$). La función de verosimilitud se expresa como:\n",
        "\n",
        "$$L(\\pi) \\propto \\pi^{\\sum_i X_i} (1 - \\pi)^{n - \\sum_i X_i}$$\n",
        "\n",
        "Aquí, el parámetro $\\pi$ está confinado al intervalo [0, 1]. La distribución conjugada para $\\pi$ se define como:\n",
        "\n",
        "$$\\xi(\\pi) \\propto \\pi^{\\alpha - 1}(1 - \\pi)^{\\beta - 1}$$\n",
        "\n",
        "Donde $\\alpha$ y $\\beta$ son denominados hiperparámetros, diferenciándolos del parámetro del modelo muestral $\\pi$. La comparación entre la distribución a priori y la verosimilitud sugiere que $\\alpha - 1$ puede asociarse con $\\sum_i X_i$ y $\\beta - 1$ con $n - \\sum_i X_i$. Así, el experto que forma su opinión a priori puede conceptualizar esto como extraer una muestra hipotética de ceros y unos de un tamaño total de $\\alpha + \\beta - 2$, repartiéndolos según sus creencias previas. Este ejercicio mental refleja el grado de confianza del experto en sus propias estimaciones previas.\n",
        "\n",
        "Estas ideas previas se resumen a través de los indicadores estadísticos de la distribución Beta:\n",
        "\n",
        "- **Media a priori**: $E(\\pi) = \\frac{\\alpha}{\\alpha + \\beta}$\n",
        "- **Moda**: $\\frac{\\alpha - 1}{\\alpha + \\beta - 2}$\n",
        "- **Varianza**: $\\frac{\\alpha\\beta}{(\\alpha + \\beta)^2(\\alpha + \\beta + 1)} = E(\\pi)(1 - E(\\pi)) / (\\alpha + \\beta + 1)$\n",
        "\n",
        "La esperanza a priori $E(\\pi)$ simboliza la probabilidad agregada de éxito antes de cualquier observación real:\n",
        "\n",
        "$$E(\\pi) = \\int \\pi \\xi(\\pi) d\\pi = \\int p(Y = 1|\\pi) \\xi(\\pi) d\\pi = p(X = 1)\\]\n",
        "\n",
        "La varianza de $\\pi$ disminuye con mayores valores de $\\alpha + \\beta$ manteniendo constante la media, por lo que la suma $\\alpha + \\beta$ se conoce como la 'precisión' de la distribución.\n",
        "\n",
        "Finalmente, la **distribución posterior**:\n",
        "\n",
        "$$\\xi(\\pi|X_1, ..., X_n) \\propto \\pi^{\\alpha + \\sum_i X_i - 1} (1 - \\pi)^{\\beta + n - \\sum_i X_i - 1}$$\n",
        "\n",
        "Es otra distribución Beta pero con hiperparámetros actualizados: $\\alpha + \\sum_i X_i$ y $\\beta + n - \\sum_i X_i$. La precisión posterior, por ende, se incrementa por el tamaño de la muestra $n$.\n",
        "\n",
        "La **media a posteriori** se convierte en una combinación ponderada:\n",
        "\n",
        "$$E(\\pi|X_1, ..., X_n, \\alpha, \\beta) = w \\cdot E(\\pi|\\alpha, \\beta) + (1 - w) \\cdot \\frac{\\sum_{i=1}^{n} X_i}{n}$$\n",
        "\n",
        "donde $w = \\frac{\\alpha + \\beta}{\\alpha + \\beta + n}$, integrando tanto conocimientos previos como nuevos datos observados."
      ],
      "metadata": {
        "id": "XPkg_mmrCtxd"
      }
    },
    {
      "cell_type": "code",
      "source": [],
      "metadata": {
        "id": "w-EAnW5ny50C"
      },
      "execution_count": null,
      "outputs": []
    }
  ]
}